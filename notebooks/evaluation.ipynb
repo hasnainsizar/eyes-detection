{
 "cells": [
  {
   "cell_type": "code",
   "execution_count": 6,
   "id": "e2fc75a7",
   "metadata": {},
   "outputs": [
    {
     "name": "stdout",
     "output_type": "stream",
     "text": [
      "I am a gooner!\n",
      "/Users/hasnainsizar/miniconda3/envs/eyes-detect/bin/python\n"
     ]
    }
   ],
   "source": [
    "def main():\n",
    "    print('I am a gooner!')\n",
    "main()\n",
    "\n",
    "!which python\n"
   ]
  }
 ],
 "metadata": {
  "kernelspec": {
   "display_name": "eyes-detect",
   "language": "python",
   "name": "python3"
  },
  "language_info": {
   "codemirror_mode": {
    "name": "ipython",
    "version": 3
   },
   "file_extension": ".py",
   "mimetype": "text/x-python",
   "name": "python",
   "nbconvert_exporter": "python",
   "pygments_lexer": "ipython3",
   "version": "3.10.18"
  }
 },
 "nbformat": 4,
 "nbformat_minor": 5
}
